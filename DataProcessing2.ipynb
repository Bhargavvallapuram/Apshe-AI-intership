{
  "nbformat": 4,
  "nbformat_minor": 0,
  "metadata": {
    "colab": {
      "private_outputs": true,
      "provenance": [],
      "authorship_tag": "ABX9TyOqPTBnjwo4SaU7EzYNnrnu",
      "include_colab_link": true
    },
    "kernelspec": {
      "name": "python3",
      "display_name": "Python 3"
    },
    "language_info": {
      "name": "python"
    }
  },
  "cells": [
    {
      "cell_type": "markdown",
      "metadata": {
        "id": "view-in-github",
        "colab_type": "text"
      },
      "source": [
        "<a href=\"https://colab.research.google.com/github/Bhargavvallapuram/Apshe-AI-intership/blob/main/DataProcessing2.ipynb\" target=\"_parent\"><img src=\"https://colab.research.google.com/assets/colab-badge.svg\" alt=\"Open In Colab\"/></a>"
      ]
    },
    {
      "cell_type": "code",
      "source": [
        "import numpy as np\n",
        "import pandas as pd\n",
        "import matplotlib.pyplot as plt\n",
        "import matplotlib as pcreader\n",
        "import seaborn as sns\n"
      ],
      "metadata": {
        "id": "zgRmxz1sjERp"
      },
      "execution_count": null,
      "outputs": []
    },
    {
      "cell_type": "code",
      "source": [
        "df=pd.read_csv('/content/insurance.csv')\n",
        "df"
      ],
      "metadata": {
        "id": "Z2-DKpZyjE-m"
      },
      "execution_count": null,
      "outputs": []
    },
    {
      "cell_type": "code",
      "source": [
        "df.isnull().sum()"
      ],
      "metadata": {
        "id": "3ESwTbWCk4kZ"
      },
      "execution_count": null,
      "outputs": []
    },
    {
      "cell_type": "code",
      "source": [
        "df.isnull().any()"
      ],
      "metadata": {
        "id": "lG3rGFPLk9TV"
      },
      "execution_count": null,
      "outputs": []
    },
    {
      "cell_type": "code",
      "source": [
        "df.describe()"
      ],
      "metadata": {
        "id": "1lelaQpilDKc"
      },
      "execution_count": null,
      "outputs": []
    },
    {
      "cell_type": "code",
      "source": [
        "df.describe().mean()"
      ],
      "metadata": {
        "id": "gCL66GRDluq7"
      },
      "execution_count": null,
      "outputs": []
    },
    {
      "cell_type": "code",
      "source": [
        "df.describe().min()"
      ],
      "metadata": {
        "id": "bmLxvrEUl-73"
      },
      "execution_count": null,
      "outputs": []
    },
    {
      "cell_type": "code",
      "source": [
        "df.describe().max()"
      ],
      "metadata": {
        "id": "Hrf_zzPMmcJM"
      },
      "execution_count": null,
      "outputs": []
    },
    {
      "cell_type": "code",
      "source": [
        "df"
      ],
      "metadata": {
        "id": "KkKo0Qcom12S"
      },
      "execution_count": null,
      "outputs": []
    },
    {
      "cell_type": "code",
      "source": [
        "sns.lineplot(x=df.age,y=df.bmi)"
      ],
      "metadata": {
        "id": "00FqB7R1m-lL"
      },
      "execution_count": null,
      "outputs": []
    },
    {
      "cell_type": "code",
      "source": [
        "sns.lineplot(x=df.smoker,y=df.age)"
      ],
      "metadata": {
        "id": "wcSemhAgnREi"
      },
      "execution_count": null,
      "outputs": []
    },
    {
      "cell_type": "code",
      "source": [
        "# prompt: to find correlation between the two columns in the table\n",
        "\n",
        "df['age'].corr(df['bmi'])\n"
      ],
      "metadata": {
        "id": "04NHq4Xznemv"
      },
      "execution_count": null,
      "outputs": []
    },
    {
      "cell_type": "code",
      "source": [
        "sns.boxplot(df.bmi)"
      ],
      "metadata": {
        "id": "1Qsb6P0Nnt0u"
      },
      "execution_count": null,
      "outputs": []
    },
    {
      "cell_type": "code",
      "source": [
        "df.bmi.quantile(0.25)"
      ],
      "metadata": {
        "id": "6hUYJXuAohrH"
      },
      "execution_count": null,
      "outputs": []
    },
    {
      "cell_type": "code",
      "source": [
        "df.bmi.quantile(0.75)"
      ],
      "metadata": {
        "id": "FjUH9OvkopJm"
      },
      "execution_count": null,
      "outputs": []
    },
    {
      "cell_type": "code",
      "source": [
        "df.bmi.median()"
      ],
      "metadata": {
        "id": "TWCFPZzNo5JH"
      },
      "execution_count": null,
      "outputs": []
    },
    {
      "cell_type": "code",
      "source": [
        "IQR = df.bmi.quantile(0.75) - df.bmi.quantile(0.25)\n",
        "upper_limit = df.bmi.quantile(0.75) + (1.5 * IQR)\n",
        "lower_limit = df.bmi.quantile(0.25) - (1.5 * IQR)\n",
        "print(\"Upper limit:\", upper_limit)\n",
        "print(\"Lower limit:\", lower_limit)\n"
      ],
      "metadata": {
        "id": "dopGUIALpLOF"
      },
      "execution_count": null,
      "outputs": []
    },
    {
      "cell_type": "code",
      "source": [
        "df['bmi']=np.where(df['bmi']>upper_limit,30,df['bmi'])\n",
        "df"
      ],
      "metadata": {
        "id": "_XXV99OHo8Z-"
      },
      "execution_count": null,
      "outputs": []
    },
    {
      "cell_type": "code",
      "source": [
        "sns.boxplot(df.bmi)"
      ],
      "metadata": {
        "id": "e6BrGFeopoeU"
      },
      "execution_count": null,
      "outputs": []
    },
    {
      "cell_type": "code",
      "source": [
        "df"
      ],
      "metadata": {
        "id": "h7GZJmVPp93I"
      },
      "execution_count": null,
      "outputs": []
    },
    {
      "cell_type": "code",
      "source": [
        "# prompt: Using dataframe df: make dublicate the data with replacing the string with encoding method with 0s and 1s\n",
        "\n",
        "df_encoded = df.copy()\n",
        "for col in ['sex', 'smoker', 'region']:\n",
        "  df_encoded[col] = df_encoded[col].replace({'male': 0, 'female': 1, 'yes': 1, 'no': 0, 'southeast': 0, 'southwest': 1, 'northeast': 2, 'northwest': 3})\n",
        "df_encoded.head()\n"
      ],
      "metadata": {
        "id": "N4idax67qykN"
      },
      "execution_count": null,
      "outputs": []
    },
    {
      "cell_type": "code",
      "source": [
        "df_encoded"
      ],
      "metadata": {
        "id": "15jVIcgIqmDX"
      },
      "execution_count": null,
      "outputs": []
    },
    {
      "cell_type": "code",
      "source": [
        "from sklearn.preprocessing import LabelEncoder\n",
        "le=LabelEncoder()"
      ],
      "metadata": {
        "id": "tdufto2HrHWK"
      },
      "execution_count": null,
      "outputs": []
    },
    {
      "cell_type": "code",
      "source": [
        "df.sex = le.fit_transform(df.sex)\n",
        "df.smoker = le.fit_transform(df.smoker)\n",
        "df.region=le.fit_transform(df.region)\n",
        "df"
      ],
      "metadata": {
        "id": "8OBYKgCxrzQF"
      },
      "execution_count": null,
      "outputs": []
    },
    {
      "cell_type": "code",
      "source": [
        "df.describe()"
      ],
      "metadata": {
        "id": "gzEuUVqUsl2t"
      },
      "execution_count": null,
      "outputs": []
    },
    {
      "cell_type": "code",
      "source": [
        "df.corr()"
      ],
      "metadata": {
        "id": "nEQykaanszhr"
      },
      "execution_count": null,
      "outputs": []
    },
    {
      "cell_type": "code",
      "source": [
        "sns.heatmap(df.corr(),annot=True)"
      ],
      "metadata": {
        "id": "I4nHzc-us3jd"
      },
      "execution_count": null,
      "outputs": []
    },
    {
      "cell_type": "code",
      "source": [
        "df.corr().charges.sort_values(ascending=True)"
      ],
      "metadata": {
        "id": "ANUVVWxOt8zX"
      },
      "execution_count": null,
      "outputs": []
    },
    {
      "cell_type": "code",
      "source": [
        "df.corr().charges.sort_values(ascending=False)"
      ],
      "metadata": {
        "id": "qhQwM1IzuU_k"
      },
      "execution_count": null,
      "outputs": []
    },
    {
      "cell_type": "code",
      "source": [
        "df.head()"
      ],
      "metadata": {
        "id": "df_fe1i1udFt"
      },
      "execution_count": null,
      "outputs": []
    },
    {
      "cell_type": "code",
      "source": [
        "#x and y split,independent varable and dependent varable\n",
        "x=df.drop(columns=['charges'],axis=1)\n",
        "x"
      ],
      "metadata": {
        "id": "XHHc5mlpvZz_"
      },
      "execution_count": null,
      "outputs": []
    },
    {
      "cell_type": "code",
      "source": [
        "y=df.charges\n",
        "y"
      ],
      "metadata": {
        "id": "wWAJ5XI3vElr"
      },
      "execution_count": null,
      "outputs": []
    },
    {
      "cell_type": "code",
      "source": [
        "x.head()"
      ],
      "metadata": {
        "id": "p4AmZIBpwSRT"
      },
      "execution_count": null,
      "outputs": []
    },
    {
      "cell_type": "code",
      "source": [
        "#scaling\n",
        "#min max scaler\n"
      ],
      "metadata": {
        "id": "nzcRm_mewVDS"
      },
      "execution_count": null,
      "outputs": []
    },
    {
      "cell_type": "code",
      "source": [
        "df.shape"
      ],
      "metadata": {
        "id": "CYXnJ80gzBlx"
      },
      "execution_count": null,
      "outputs": []
    },
    {
      "cell_type": "code",
      "source": [
        "\n",
        "from sklearn.preprocessing import MinMaxScaler\n",
        "scaler = MinMaxScaler()\n",
        "x_scaled = scaler.fit_transform(x)\n",
        "x_train,xtest,y_train,y_test=train_test_split(x_scaled,y,test_size=0.3,random_state=0)\n"
      ],
      "metadata": {
        "id": "87edwXS_zDsj"
      },
      "execution_count": null,
      "outputs": []
    },
    {
      "cell_type": "code",
      "source": [
        "x_train.shape"
      ],
      "metadata": {
        "id": "bEJBBjxz2NyY"
      },
      "execution_count": null,
      "outputs": []
    },
    {
      "cell_type": "code",
      "source": [],
      "metadata": {
        "id": "uhIeAOr92eci"
      },
      "execution_count": null,
      "outputs": []
    }
  ]
}