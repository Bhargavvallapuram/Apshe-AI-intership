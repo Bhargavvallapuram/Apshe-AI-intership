{
  "nbformat": 4,
  "nbformat_minor": 0,
  "metadata": {
    "colab": {
      "private_outputs": true,
      "provenance": [],
      "authorship_tag": "ABX9TyNdo446WE4HSjYBnO+/Bd56",
      "include_colab_link": true
    },
    "kernelspec": {
      "name": "python3",
      "display_name": "Python 3"
    },
    "language_info": {
      "name": "python"
    }
  },
  "cells": [
    {
      "cell_type": "markdown",
      "metadata": {
        "id": "view-in-github",
        "colab_type": "text"
      },
      "source": [
        "<a href=\"https://colab.research.google.com/github/Bhargavvallapuram/Apshe-AI-intership/blob/main/Datapreprocessing.ipynb\" target=\"_parent\"><img src=\"https://colab.research.google.com/assets/colab-badge.svg\" alt=\"Open In Colab\"/></a>"
      ]
    },
    {
      "cell_type": "code",
      "execution_count": null,
      "metadata": {
        "id": "xdZEseVqFdGP"
      },
      "outputs": [],
      "source": [
        "import matplotlib.pyplot as plt\n",
        "from matplotlib import rcParams\n",
        "import seaborn as sns\n",
        "import pandas as pd\n",
        "import numpy as np\n"
      ]
    },
    {
      "cell_type": "code",
      "source": [
        "df=pd.read_csv(\"/content/insurance.csv\")\n",
        "df"
      ],
      "metadata": {
        "id": "Sj-3wmQ9G4NO"
      },
      "execution_count": null,
      "outputs": []
    },
    {
      "cell_type": "code",
      "source": [
        "df.head()"
      ],
      "metadata": {
        "id": "oup4o-dUHwVZ"
      },
      "execution_count": null,
      "outputs": []
    },
    {
      "cell_type": "code",
      "source": [
        "df.tail()"
      ],
      "metadata": {
        "id": "OLc7etkFH66m"
      },
      "execution_count": null,
      "outputs": []
    },
    {
      "cell_type": "code",
      "source": [
        "#checking the dataset size\n",
        "df.shape"
      ],
      "metadata": {
        "id": "Y0vGI__8ITxr"
      },
      "execution_count": null,
      "outputs": []
    },
    {
      "cell_type": "code",
      "source": [
        "df.info()"
      ],
      "metadata": {
        "id": "2ZPGPDvgIg8s"
      },
      "execution_count": null,
      "outputs": []
    },
    {
      "cell_type": "code",
      "source": [
        "#checking the null value are there in the data set\n",
        "df.isnull().any()"
      ],
      "metadata": {
        "id": "2Clj9-HUImPd"
      },
      "execution_count": null,
      "outputs": []
    },
    {
      "cell_type": "code",
      "source": [
        "df.isnull().sum()"
      ],
      "metadata": {
        "id": "YR4vNi0tI69j"
      },
      "execution_count": null,
      "outputs": []
    },
    {
      "cell_type": "code",
      "source": [
        "plt.plot(df.age,df.charges)"
      ],
      "metadata": {
        "id": "PfAFQUddI_yt"
      },
      "execution_count": null,
      "outputs": []
    },
    {
      "cell_type": "code",
      "source": [
        "#null value s in the columns replace  with mean or median\n",
        "#null values in the categorical columns replace with mode\n"
      ],
      "metadata": {
        "id": "KNPYeN37KNUQ"
      },
      "execution_count": null,
      "outputs": []
    },
    {
      "cell_type": "code",
      "source": [
        "#for the numerical column null values replacement\n",
        "#df['age].fillna(df['age'].median,inplace=True)\n"
      ],
      "metadata": {
        "id": "NMIV6tn3KlVW"
      },
      "execution_count": null,
      "outputs": []
    },
    {
      "cell_type": "code",
      "source": [
        "#for the categoricak column null values replacement\n",
        "#df['smoker'].fillna(df['somker'].mode,inplace=True)"
      ],
      "metadata": {
        "id": "vK4Oe_rRLajx"
      },
      "execution_count": null,
      "outputs": []
    },
    {
      "cell_type": "code",
      "source": [
        "#checking the descriptive statistics\n",
        "df.describe()"
      ],
      "metadata": {
        "id": "KHgm2EbYLpWG"
      },
      "execution_count": null,
      "outputs": []
    },
    {
      "cell_type": "code",
      "source": [
        "df"
      ],
      "metadata": {
        "id": "Zap7kDFkL46Z"
      },
      "execution_count": null,
      "outputs": []
    },
    {
      "cell_type": "code",
      "source": [
        "df.info()"
      ],
      "metadata": {
        "id": "HkTagjVhMeyC"
      },
      "execution_count": null,
      "outputs": []
    },
    {
      "cell_type": "code",
      "source": [
        "df.charges.type"
      ],
      "metadata": {
        "id": "QIREtlIiNcI5"
      },
      "execution_count": null,
      "outputs": []
    },
    {
      "cell_type": "code",
      "source": [
        "df.smoker.unique()"
      ],
      "metadata": {
        "id": "gojLWJ52N1CM"
      },
      "execution_count": null,
      "outputs": []
    },
    {
      "cell_type": "code",
      "source": [
        "df.region.unique()\n"
      ],
      "metadata": {
        "id": "8pqOfnvxN93N"
      },
      "execution_count": null,
      "outputs": []
    },
    {
      "cell_type": "code",
      "source": [
        "df.smoker.value_counts()"
      ],
      "metadata": {
        "id": "IEkZrAHxOFOY"
      },
      "execution_count": null,
      "outputs": []
    },
    {
      "cell_type": "code",
      "source": [
        "df.region.value_counts()"
      ],
      "metadata": {
        "id": "bMv5Nx0TOWtQ"
      },
      "execution_count": null,
      "outputs": []
    },
    {
      "cell_type": "code",
      "source": [
        "df.children.unique()"
      ],
      "metadata": {
        "id": "9WLAvXCnOsbn"
      },
      "execution_count": null,
      "outputs": []
    },
    {
      "cell_type": "code",
      "source": [
        "#visualization\n",
        "#univeriate analysis\n",
        "sns.distplot(df.age)"
      ],
      "metadata": {
        "id": "wH5OuhbhOvs5"
      },
      "execution_count": null,
      "outputs": []
    },
    {
      "cell_type": "code",
      "source": [
        "sns.distplot(df.charges)"
      ],
      "metadata": {
        "id": "bDl0a7o1PW3D"
      },
      "execution_count": null,
      "outputs": []
    },
    {
      "cell_type": "code",
      "source": [
        "sns.distplot(df.bmi)"
      ],
      "metadata": {
        "id": "9qzdTam1Pk8D"
      },
      "execution_count": null,
      "outputs": []
    },
    {
      "cell_type": "code",
      "source": [
        "plt.pie(df.smoker.value_counts(),[0,.008])"
      ],
      "metadata": {
        "id": "rjetq2hOPqKP"
      },
      "execution_count": null,
      "outputs": []
    },
    {
      "cell_type": "code",
      "source": [
        "plt.pie(df.smoker.value_counts(),[0,.008],labels=['no','yes'],autopct='%1.1f%%',shadow=True,colors=[\"pink\",'red'])\n",
        "plt.title('green')\n",
        "plt.show()"
      ],
      "metadata": {
        "id": "5HJAbmQCQDOY"
      },
      "execution_count": null,
      "outputs": []
    },
    {
      "cell_type": "code",
      "source": [
        "plt.pie(df.sex.value_counts(),[0,.008],labels=['male','female'],autopct='%1.1f%%',shadow=True,colors=[\"red\",'blue'])\n",
        "plt.title('gender')\n",
        "plt.show()"
      ],
      "metadata": {
        "id": "hdIgfoS_Qg7Y"
      },
      "execution_count": null,
      "outputs": []
    },
    {
      "cell_type": "code",
      "source": [
        "plt.pie(len(df.region.value_counts()),[0,.008],labels=['southeast','southwest','northwest','northeast'],autopct='%1.1f%%',shadow=True,colors=[\"pink\",'red','green','blue'])\n",
        "plt.title('Region')\n",
        "plt.show()"
      ],
      "metadata": {
        "id": "Ntckj9ioRh-m"
      },
      "execution_count": null,
      "outputs": []
    },
    {
      "cell_type": "code",
      "source": [
        "# prompt: find error and correct it plt.pie(df.region.value_counts(),[0,.008],labels=['southeast','southwest','northwest','northeast'],autopct='%1.1f%%',shadow=True,colors=[\"pink\",'red'])\n",
        "# plt.title('green')\n",
        "# plt.show()\n",
        "\n",
        "import matplotlib.pyplot as plt\n",
        "plt.pie(df.region.value_counts(),[0,.008],labels=['southeast','southwest','northwest','northeast'],autopct='%1.1f%%',shadow=True,colors=[\"pink\",'red','green','blue'])\n",
        "plt.title('Region')\n",
        "plt.show()\n"
      ],
      "metadata": {
        "id": "VsODd8ScSNAX"
      },
      "execution_count": null,
      "outputs": []
    },
    {
      "cell_type": "code",
      "source": [
        "#outlier detection\n",
        "q1=df.bmi.quantile(0.25)\n",
        "q1"
      ],
      "metadata": {
        "id": "mHuZ09HyUAFg"
      },
      "execution_count": null,
      "outputs": []
    },
    {
      "cell_type": "code",
      "source": [
        "#outlier detection\n",
        "q2=df.bmi.quantile(0.50)\n",
        "q2"
      ],
      "metadata": {
        "id": "pURb11yfWyrs"
      },
      "execution_count": null,
      "outputs": []
    },
    {
      "cell_type": "code",
      "source": [
        "#outlier detection\n",
        "q3=df.bmi.quantile(0.75)\n",
        "q3"
      ],
      "metadata": {
        "id": "11sLoGvJXAOv"
      },
      "execution_count": null,
      "outputs": []
    },
    {
      "cell_type": "code",
      "source": [
        "plt.boxplot(df.bmi)"
      ],
      "metadata": {
        "id": "v0ePGaKEXEc6"
      },
      "execution_count": null,
      "outputs": []
    },
    {
      "cell_type": "code",
      "source": [
        "sns.boxplot(df.bmi)"
      ],
      "metadata": {
        "id": "9Hwgacj_XL44"
      },
      "execution_count": null,
      "outputs": []
    },
    {
      "cell_type": "code",
      "source": [
        "df.head()"
      ],
      "metadata": {
        "id": "Zv-wLxOqXnIU"
      },
      "execution_count": null,
      "outputs": []
    },
    {
      "cell_type": "code",
      "source": [
        "#encoding Techniques\n"
      ],
      "metadata": {
        "id": "abAsqBu0X_CS"
      },
      "execution_count": null,
      "outputs": []
    }
  ]
}