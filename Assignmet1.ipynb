{
  "nbformat": 4,
  "nbformat_minor": 0,
  "metadata": {
    "colab": {
      "private_outputs": true,
      "provenance": [],
      "cell_execution_strategy": "setup",
      "authorship_tag": "ABX9TyPi/Igm+PbkfwearoHWsuDE",
      "include_colab_link": true
    },
    "kernelspec": {
      "name": "python3",
      "display_name": "Python 3"
    },
    "language_info": {
      "name": "python"
    }
  },
  "cells": [
    {
      "cell_type": "markdown",
      "metadata": {
        "id": "view-in-github",
        "colab_type": "text"
      },
      "source": [
        "<a href=\"https://colab.research.google.com/github/Bhargavvallapuram/Apshe-AI-intership/blob/main/Assignmet1.ipynb\" target=\"_parent\"><img src=\"https://colab.research.google.com/assets/colab-badge.svg\" alt=\"Open In Colab\"/></a>"
      ]
    },
    {
      "cell_type": "code",
      "execution_count": null,
      "metadata": {
        "id": "q3k1YbesdLhX"
      },
      "outputs": [],
      "source": [
        "#Task1:basic program\n",
        "#Even number or not\n",
        "def iseven(n):\n",
        "    if n%2==0:\n",
        "        print(n,\"is even\")\n",
        "    else:\n",
        "        print(n,'is odd')\n",
        "n=int(input())\n",
        "iseven(n)"
      ]
    },
    {
      "cell_type": "code",
      "source": [
        "#largest number among the three number\n",
        "def largest(a,b,c):\n",
        "    if a>b and a>c:\n",
        "        print(\"The largest number is\",a)\n",
        "    elif b>a and b>c:\n",
        "        print(\"The largest number is\",b)\n",
        "    elif c>a and c>b:\n",
        "        print(\"The largest number is\",c)\n",
        "a=int(input())\n",
        "b=int(input())\n",
        "c=int(input())\n",
        "largest(a,b,c)\n"
      ],
      "metadata": {
        "id": "caVeMZdkeBxI"
      },
      "execution_count": null,
      "outputs": []
    },
    {
      "cell_type": "code",
      "source": [
        "#Task2:Numpy\n",
        "#create  arrray with shape of 3X3 using numpy\n",
        "#finding mean,median and standard deviation of array\n",
        "import numpy as np\n",
        "import pandas as pd\n",
        "arr = np.array([[1, 2, 3], [4, 5, 6], [7, 8, 9]])\n",
        "print(arr.shape)\n",
        "arr\n"
      ],
      "metadata": {
        "id": "Fcx1QTwCfg3p"
      },
      "execution_count": null,
      "outputs": []
    },
    {
      "cell_type": "code",
      "source": [
        "df=pd.DataFrame(arr)\n",
        "df.describe()"
      ],
      "metadata": {
        "id": "9saVSLs_g7SJ"
      },
      "execution_count": null,
      "outputs": []
    },
    {
      "cell_type": "code",
      "source": [
        "df.describe().mean()"
      ],
      "metadata": {
        "id": "I9-mcS3og-ym"
      },
      "execution_count": null,
      "outputs": []
    },
    {
      "cell_type": "code",
      "source": [
        "df.describe().median()"
      ],
      "metadata": {
        "id": "TkynpvHahwUa"
      },
      "execution_count": null,
      "outputs": []
    },
    {
      "cell_type": "code",
      "source": [
        "df.describe().std()"
      ],
      "metadata": {
        "id": "X7so_9Rfh0ly"
      },
      "execution_count": null,
      "outputs": []
    },
    {
      "cell_type": "code",
      "source": [
        "#creating 2X2 matrix and perfoming matrix multiplication using numpy\n",
        "matrix1 = np.array([[1, 2], [3, 4]])\n",
        "matrix2 = np.array([[5, 6], [7, 8]])\n",
        "matrix3=np.dot(matrix1,matrix2)\n",
        "matrix3"
      ],
      "metadata": {
        "id": "HqWm5te5h-Tv"
      },
      "execution_count": null,
      "outputs": []
    },
    {
      "cell_type": "code",
      "source": [
        "#Task3:pandas\n",
        "#Load a CSV file and performing basic operation on it\n",
        "import pandas as pd\n",
        "df=pd.read_csv('/content/sample_data/california_housing_train.csv')\n",
        "df.head()"
      ],
      "metadata": {
        "id": "z8aEWLF5n5is"
      },
      "execution_count": null,
      "outputs": []
    },
    {
      "cell_type": "code",
      "source": [
        "df.describe()"
      ],
      "metadata": {
        "id": "T8S_9qEhpL7a"
      },
      "execution_count": null,
      "outputs": []
    },
    {
      "cell_type": "code",
      "source": [
        "#Appling filters on DataFrame\n",
        "filtered_df = df[df['total_bedrooms'] > 1500]\n",
        "filtered_df\n"
      ],
      "metadata": {
        "id": "MIFNlkFqpRAA"
      },
      "execution_count": null,
      "outputs": []
    },
    {
      "cell_type": "code",
      "source": [
        "filter2_df=df[df['housing_median_age']>50]\n",
        "filter2_df"
      ],
      "metadata": {
        "id": "15UXgyxnrsBw"
      },
      "execution_count": null,
      "outputs": []
    },
    {
      "cell_type": "code",
      "source": [
        "#Task:4:Matplotlib\n",
        "#Create a line plot using Matplotlib\n",
        "import matplotlib.pyplot as plt\n",
        "x=[i for i in range(-10,11)]\n",
        "y=[j**2 for j in x]\n",
        "x\n",
        "y\n",
        "plt.plot(x,y,)"
      ],
      "metadata": {
        "id": "JpehHs98sC9c"
      },
      "execution_count": null,
      "outputs": []
    },
    {
      "cell_type": "code",
      "source": [
        "#barchart\n",
        "x = df.total_bedrooms\n",
        "y= df.total_rooms\n",
        "plt.bar(x,y)\n"
      ],
      "metadata": {
        "id": "Feiq4hXs6L3y"
      },
      "execution_count": null,
      "outputs": []
    },
    {
      "cell_type": "code",
      "source": [
        "#Task5:seaborn\n",
        "#create histogram with seaborn\n",
        "import seaborn as sns\n",
        "x=df.total_rooms\n",
        "sns.histplot(x)"
      ],
      "metadata": {
        "id": "QQoUnAcy73CW"
      },
      "execution_count": null,
      "outputs": []
    },
    {
      "source": [
        "#heatmap\n",
        "df.corr()"
      ],
      "cell_type": "code",
      "metadata": {
        "id": "znAuXBc5_VTw"
      },
      "execution_count": null,
      "outputs": []
    },
    {
      "cell_type": "code",
      "source": [
        "sns.heatmap(df.corr(), annot=True,cmap='Blues')\n",
        "plt.show()"
      ],
      "metadata": {
        "id": "saxLgflo_WPy"
      },
      "execution_count": null,
      "outputs": []
    },
    {
      "cell_type": "code",
      "source": [],
      "metadata": {
        "id": "q_XBFyVX_6Fh"
      },
      "execution_count": null,
      "outputs": []
    }
  ]
}