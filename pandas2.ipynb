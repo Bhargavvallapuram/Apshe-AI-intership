{
  "nbformat": 4,
  "nbformat_minor": 0,
  "metadata": {
    "colab": {
      "private_outputs": true,
      "provenance": [],
      "authorship_tag": "ABX9TyPoXUof0Rq4duZSk5sYhMnC",
      "include_colab_link": true
    },
    "kernelspec": {
      "name": "python3",
      "display_name": "Python 3"
    },
    "language_info": {
      "name": "python"
    }
  },
  "cells": [
    {
      "cell_type": "markdown",
      "metadata": {
        "id": "view-in-github",
        "colab_type": "text"
      },
      "source": [
        "<a href=\"https://colab.research.google.com/github/Bhargavvallapuram/Apshe-AI-intership/blob/main/pandas2.ipynb\" target=\"_parent\"><img src=\"https://colab.research.google.com/assets/colab-badge.svg\" alt=\"Open In Colab\"/></a>"
      ]
    },
    {
      "cell_type": "code",
      "execution_count": null,
      "metadata": {
        "id": "L_JwosMbyTUR"
      },
      "outputs": [],
      "source": [
        "import pandas as pd\n",
        "df=pd.read_csv('/content/mtcars.csv')\n",
        "df"
      ]
    },
    {
      "cell_type": "code",
      "source": [
        "df1=pd.read_csv(\"/content/sample_data/anscombe.json\")\n",
        "df1"
      ],
      "metadata": {
        "id": "OAnq795o1mWo"
      },
      "execution_count": null,
      "outputs": []
    },
    {
      "cell_type": "code",
      "source": [
        "df2=pd.read_csv(\"/content/sample_data/california_housing_train.csv\")\n",
        "df2"
      ],
      "metadata": {
        "id": "-raek3d413tr"
      },
      "execution_count": null,
      "outputs": []
    },
    {
      "cell_type": "code",
      "source": [
        "df"
      ],
      "metadata": {
        "id": "dDSd3Pws2FOZ"
      },
      "execution_count": null,
      "outputs": []
    },
    {
      "cell_type": "code",
      "source": [
        "df.head()"
      ],
      "metadata": {
        "id": "_kSOrJLG2Xz7"
      },
      "execution_count": null,
      "outputs": []
    },
    {
      "cell_type": "code",
      "source": [
        "df.head(32)"
      ],
      "metadata": {
        "id": "XDlYyfi02hM5"
      },
      "execution_count": null,
      "outputs": []
    },
    {
      "cell_type": "code",
      "source": [
        "# prompt: Using dataframe df: get only models data\n",
        "\n",
        "df['model']\n"
      ],
      "metadata": {
        "id": "yZvaeo0X2nxY"
      },
      "execution_count": null,
      "outputs": []
    },
    {
      "cell_type": "code",
      "source": [
        "df.type\n"
      ],
      "metadata": {
        "id": "qedutEfE2kQY"
      },
      "execution_count": null,
      "outputs": []
    },
    {
      "cell_type": "code",
      "source": [
        "df['model'].type"
      ],
      "metadata": {
        "id": "CMK4d_nx3ESG"
      },
      "execution_count": null,
      "outputs": []
    },
    {
      "cell_type": "code",
      "source": [
        "df.info()"
      ],
      "metadata": {
        "id": "xfpFUmMm3SrB"
      },
      "execution_count": null,
      "outputs": []
    },
    {
      "cell_type": "code",
      "source": [
        "df.iloc[0:10,2:4]"
      ],
      "metadata": {
        "id": "oI5GAML03ZZp"
      },
      "execution_count": null,
      "outputs": []
    },
    {
      "cell_type": "code",
      "source": [
        "df\n"
      ],
      "metadata": {
        "id": "XaYLdTtr4goM"
      },
      "execution_count": null,
      "outputs": []
    },
    {
      "cell_type": "code",
      "source": [
        "df.iloc[2:18,4:10]"
      ],
      "metadata": {
        "id": "UZOeaZIO42Lv"
      },
      "execution_count": null,
      "outputs": []
    },
    {
      "cell_type": "code",
      "source": [
        "df.iloc[26:26,0:1]"
      ],
      "metadata": {
        "id": "GankoQIL5OHl"
      },
      "execution_count": null,
      "outputs": []
    },
    {
      "cell_type": "code",
      "source": [
        "df.iloc[[26,28,29,20],[0,2,4,6,9]]"
      ],
      "metadata": {
        "id": "jsSWHlJV58jT"
      },
      "execution_count": null,
      "outputs": []
    },
    {
      "cell_type": "code",
      "source": [
        "df.loc[0]"
      ],
      "metadata": {
        "id": "HeLSZM-16ovM"
      },
      "execution_count": null,
      "outputs": []
    },
    {
      "cell_type": "code",
      "source": [
        "df.loc[0:32]"
      ],
      "metadata": {
        "id": "sB3eU8Vf7RCH"
      },
      "execution_count": null,
      "outputs": []
    },
    {
      "cell_type": "code",
      "source": [
        "df.columns"
      ],
      "metadata": {
        "id": "o5ugcfYP7cbh"
      },
      "execution_count": null,
      "outputs": []
    },
    {
      "cell_type": "code",
      "source": [
        "df.columns.to_list()"
      ],
      "metadata": {
        "id": "HfgvLDIA7kmi"
      },
      "execution_count": null,
      "outputs": []
    },
    {
      "cell_type": "code",
      "source": [
        "df.rows.to_list()"
      ],
      "metadata": {
        "id": "gHQSpSM77mgh"
      },
      "execution_count": null,
      "outputs": []
    },
    {
      "cell_type": "code",
      "source": [
        "df"
      ],
      "metadata": {
        "id": "RjBtxOZm7xot"
      },
      "execution_count": null,
      "outputs": []
    },
    {
      "cell_type": "code",
      "source": [
        "df.loc[2:5,'disp':'am']"
      ],
      "metadata": {
        "id": "9AhcEF44754g"
      },
      "execution_count": null,
      "outputs": []
    },
    {
      "cell_type": "code",
      "source": [
        "df1=df\n",
        "df1=df1.drop(\"cyl\",axis=1)\n",
        "df1"
      ],
      "metadata": {
        "id": "Eh6AnllR8H1a"
      },
      "execution_count": null,
      "outputs": []
    },
    {
      "cell_type": "code",
      "source": [
        "df1=df1.drop(0,axis=0)"
      ],
      "metadata": {
        "id": "jXmJPSLR9q1W"
      },
      "execution_count": null,
      "outputs": []
    },
    {
      "cell_type": "code",
      "source": [
        "df1"
      ],
      "metadata": {
        "id": "KXWNhyCe90sy"
      },
      "execution_count": null,
      "outputs": []
    },
    {
      "cell_type": "code",
      "source": [
        "df['price']=[2,3,2,2,6,5,4,3,5,4,4,4,4,2,4,4,4,4,4,4,6,5,6,5,6,5,4,5,6,5,6,5]"
      ],
      "metadata": {
        "id": "o9ss_SjE91tr"
      },
      "execution_count": null,
      "outputs": []
    },
    {
      "cell_type": "code",
      "source": [
        "df"
      ],
      "metadata": {
        "id": "Ktwpe_Dj-bob"
      },
      "execution_count": null,
      "outputs": []
    },
    {
      "cell_type": "code",
      "source": [
        "df[(df.am==1)&(df.price<=4)].shape"
      ],
      "metadata": {
        "id": "nuxHL6SA-rF9"
      },
      "execution_count": null,
      "outputs": []
    },
    {
      "cell_type": "code",
      "source": [
        "df.pd.sort_value('price')"
      ],
      "metadata": {
        "id": "U5HWbwUE_MJs"
      },
      "execution_count": null,
      "outputs": []
    },
    {
      "cell_type": "code",
      "source": [
        "df.gear.value_counts()"
      ],
      "metadata": {
        "id": "ZZEzuv81_v_h"
      },
      "execution_count": null,
      "outputs": []
    },
    {
      "cell_type": "code",
      "source": [
        "dc=pd.DataFrame({'name':['bhargav','sravanthi'],'c':[23,24]})\n",
        "dd=pd.DataFrame({'name':['bhargav','sraanthi'],'data stracture':[23,24]})\n",
        "m=pd.merge(dc,dd, on='name')\n",
        "m"
      ],
      "metadata": {
        "id": "2q5uuEv_Aq-m"
      },
      "execution_count": null,
      "outputs": []
    },
    {
      "cell_type": "code",
      "source": [],
      "metadata": {
        "id": "6HL2GermC2ij"
      },
      "execution_count": null,
      "outputs": []
    },
    {
      "cell_type": "code",
      "source": [],
      "metadata": {
        "id": "uxQlupY9C0QZ"
      },
      "execution_count": null,
      "outputs": []
    }
  ]
}