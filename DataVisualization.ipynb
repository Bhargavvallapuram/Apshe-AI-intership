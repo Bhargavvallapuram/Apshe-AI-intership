{
  "nbformat": 4,
  "nbformat_minor": 0,
  "metadata": {
    "colab": {
      "private_outputs": true,
      "provenance": [],
      "authorship_tag": "ABX9TyP+/+xMiAyJWeorJaFfI8TA",
      "include_colab_link": true
    },
    "kernelspec": {
      "name": "python3",
      "display_name": "Python 3"
    },
    "language_info": {
      "name": "python"
    }
  },
  "cells": [
    {
      "cell_type": "markdown",
      "metadata": {
        "id": "view-in-github",
        "colab_type": "text"
      },
      "source": [
        "<a href=\"https://colab.research.google.com/github/Bhargavvallapuram/Apshe-AI-intership/blob/main/DataVisualization.ipynb\" target=\"_parent\"><img src=\"https://colab.research.google.com/assets/colab-badge.svg\" alt=\"Open In Colab\"/></a>"
      ]
    },
    {
      "cell_type": "code",
      "execution_count": null,
      "metadata": {
        "id": "VDVjtqTr6VIe"
      },
      "outputs": [],
      "source": [
        "# prompt: to import matplot and maplotlib and searban\n",
        "\n",
        "#!pip install matplotlib\n",
        "#!pip install seaborn\n",
        "\n",
        "import matplotlib.pyplot as plt\n",
        "import matplotlib as rcparams\n",
        "import seaborn as sns\n",
        "import pandas as pd\n"
      ]
    },
    {
      "cell_type": "code",
      "source": [
        "df=pd.read_csv(\"/content/mtcars.csv\")\n",
        "df"
      ],
      "metadata": {
        "id": "mRmQmOQB9yIx"
      },
      "execution_count": null,
      "outputs": []
    },
    {
      "cell_type": "code",
      "source": [
        "df.head()"
      ],
      "metadata": {
        "id": "gKHJiNjf_RJJ"
      },
      "execution_count": null,
      "outputs": []
    },
    {
      "cell_type": "code",
      "source": [
        "df.plot()"
      ],
      "metadata": {
        "id": "g-jMV1fe_Ud0"
      },
      "execution_count": null,
      "outputs": []
    },
    {
      "cell_type": "code",
      "source": [
        "df.hp.plot()"
      ],
      "metadata": {
        "id": "PJxuwvtL_YR6"
      },
      "execution_count": null,
      "outputs": []
    },
    {
      "cell_type": "code",
      "source": [
        "df.mpg.plot()"
      ],
      "metadata": {
        "id": "-i6XIFTU_hsz"
      },
      "execution_count": null,
      "outputs": []
    },
    {
      "cell_type": "code",
      "source": [
        "df.hp.plot()\n",
        "df.mpg.plot()"
      ],
      "metadata": {
        "id": "pakl02Tj_n3x"
      },
      "execution_count": null,
      "outputs": []
    },
    {
      "cell_type": "code",
      "source": [
        "df.mpg.plot()\n",
        "df.hp.plot()\n",
        "plt.legend(['mile per galian','hourse power'])"
      ],
      "metadata": {
        "id": "7w42tZL3_wM0"
      },
      "execution_count": null,
      "outputs": []
    },
    {
      "cell_type": "code",
      "source": [
        "sns.displot(df.mpg)"
      ],
      "metadata": {
        "id": "OAgCKTUYAHhn"
      },
      "execution_count": null,
      "outputs": []
    },
    {
      "cell_type": "code",
      "source": [
        "#subplot\n",
        "(0,0) (0,1)\n",
        "(1,0) (1,1)"
      ],
      "metadata": {
        "id": "vMgkwA83AkyR"
      },
      "execution_count": null,
      "outputs": []
    },
    {
      "cell_type": "code",
      "source": [
        "x=[2,3,5,4,7,6,4]\n",
        "y=[2,4,3,7,6,4,2]\n",
        "fig,ax=plt.subplot(2,2)\n",
        "ax[0,0].plot(x,y)\n",
        "ax[0,1].pie(data)\n",
        "ax[1,0].bar(x,y)\n",
        "ax[1,1].scatter(x,y)"
      ],
      "metadata": {
        "id": "WLfxkMYyA9Cu"
      },
      "execution_count": null,
      "outputs": []
    },
    {
      "cell_type": "code",
      "source": [
        "sns.get_dataset_names()"
      ],
      "metadata": {
        "id": "DDXF7mE9CpyZ"
      },
      "execution_count": null,
      "outputs": []
    },
    {
      "cell_type": "code",
      "source": [
        "tips=sns.load_dataset('tips')\n",
        "tips.head()"
      ],
      "metadata": {
        "id": "dHkqMqVXD5tj"
      },
      "execution_count": null,
      "outputs": []
    },
    {
      "cell_type": "code",
      "source": [
        "healthexp=sns.load_dataset(\"healthexp\")\n",
        "healthexp.head()"
      ],
      "metadata": {
        "id": "cPo3oHR4EP_8"
      },
      "execution_count": null,
      "outputs": []
    },
    {
      "cell_type": "code",
      "source": [
        "tips.info()"
      ],
      "metadata": {
        "id": "fVgM2c1nEskd"
      },
      "execution_count": null,
      "outputs": []
    },
    {
      "cell_type": "code",
      "source": [
        "tips.columns"
      ],
      "metadata": {
        "id": "195UiZQ_E1Eq"
      },
      "execution_count": null,
      "outputs": []
    },
    {
      "cell_type": "code",
      "source": [
        "tips.day.unique()"
      ],
      "metadata": {
        "id": "spVDimPOFA19"
      },
      "execution_count": null,
      "outputs": []
    },
    {
      "cell_type": "code",
      "source": [
        "tips.time.unique()"
      ],
      "metadata": {
        "id": "D1uhQbiTFNgP"
      },
      "execution_count": null,
      "outputs": []
    },
    {
      "cell_type": "code",
      "source": [
        "tips.time.value_counts()"
      ],
      "metadata": {
        "id": "B5b86UBPFVnR"
      },
      "execution_count": null,
      "outputs": []
    },
    {
      "cell_type": "code",
      "source": [
        "tips.head()"
      ],
      "metadata": {
        "id": "LUahrD5CFqTj"
      },
      "execution_count": null,
      "outputs": []
    },
    {
      "cell_type": "code",
      "source": [
        "tips.day.value_counts()"
      ],
      "metadata": {
        "id": "iF2IjIM1Ftth"
      },
      "execution_count": null,
      "outputs": []
    },
    {
      "cell_type": "code",
      "source": [
        "tips.sex.value_counts()"
      ],
      "metadata": {
        "id": "A-UnEzXlFxZC"
      },
      "execution_count": null,
      "outputs": []
    },
    {
      "cell_type": "code",
      "source": [
        "tips.smoker.value_counts()"
      ],
      "metadata": {
        "id": "K1ca599DF6q7"
      },
      "execution_count": null,
      "outputs": []
    },
    {
      "cell_type": "code",
      "source": [
        "##jontplot\n",
        "sns.jointplot(x=tips.total_bill,y=tips.day)"
      ],
      "metadata": {
        "id": "6TEtWILjGBVM"
      },
      "execution_count": null,
      "outputs": []
    },
    {
      "cell_type": "code",
      "source": [
        "#PAIRPLOT\n",
        "sns.pairplot(tips)"
      ],
      "metadata": {
        "id": "3r8fIB71HFA4"
      },
      "execution_count": null,
      "outputs": []
    },
    {
      "cell_type": "code",
      "source": [
        "sns.pairplot(tips,hue='time',kind='scatter',diag_kind='kde')"
      ],
      "metadata": {
        "id": "rxMODSh7Hboq"
      },
      "execution_count": null,
      "outputs": []
    },
    {
      "cell_type": "code",
      "source": [
        "sns.pairplot(tips,hue='time',kind='scatter',diag_kind='hist')"
      ],
      "metadata": {
        "id": "H4f96-H-H9v-"
      },
      "execution_count": null,
      "outputs": []
    },
    {
      "cell_type": "code",
      "source": [
        "tips.head()"
      ],
      "metadata": {
        "id": "tsk2B2fVIXsz"
      },
      "execution_count": null,
      "outputs": []
    },
    {
      "cell_type": "code",
      "source": [
        "df1=df.drop(columns=['model'],axis=1)\n",
        "df1.head()"
      ],
      "metadata": {
        "id": "WxPGAEw8IpyU"
      },
      "execution_count": null,
      "outputs": []
    },
    {
      "cell_type": "code",
      "source": [
        "df1.corr()"
      ],
      "metadata": {
        "id": "kX7NIIopJAbe"
      },
      "execution_count": null,
      "outputs": []
    },
    {
      "cell_type": "code",
      "source": [
        "#heatmap=correlation\n",
        "sns.heatmap(df1.corr())"
      ],
      "metadata": {
        "id": "w4jnMQkEJJMp"
      },
      "execution_count": null,
      "outputs": []
    },
    {
      "cell_type": "code",
      "source": [
        "sns.heatmap(df1.corr(),annot=True)"
      ],
      "metadata": {
        "id": "5MpuHpAHJw5L"
      },
      "execution_count": null,
      "outputs": []
    },
    {
      "cell_type": "code",
      "source": [
        "sns.heatmap(df1.corr(),annot=True,cmap=\"crest\")"
      ],
      "metadata": {
        "id": "TmIGYBblKeKf"
      },
      "execution_count": null,
      "outputs": []
    },
    {
      "cell_type": "code",
      "source": [
        "sns.heatmap(df1.corr(),annot=True,cmap=True)"
      ],
      "metadata": {
        "id": "k9X5FrKYLzS5"
      },
      "execution_count": null,
      "outputs": []
    },
    {
      "cell_type": "code",
      "source": [],
      "metadata": {
        "id": "LjXU_ZJfL3TF"
      },
      "execution_count": null,
      "outputs": []
    }
  ]
}